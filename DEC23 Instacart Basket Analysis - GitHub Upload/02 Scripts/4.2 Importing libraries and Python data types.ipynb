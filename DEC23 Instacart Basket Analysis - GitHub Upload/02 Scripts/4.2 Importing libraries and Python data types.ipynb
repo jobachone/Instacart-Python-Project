{
 "cells": [
  {
   "cell_type": "markdown",
   "id": "af0cd131",
   "metadata": {},
   "source": [
    "# Importing Libraries // Python Data Types"
   ]
  },
  {
   "cell_type": "markdown",
   "id": "d3f82e6b",
   "metadata": {},
   "source": [
    "## Contents\n",
    "- 01. Importing Libraries\n",
    "- 02. Python data types"
   ]
  },
  {
   "cell_type": "markdown",
   "id": "a931cb6b",
   "metadata": {},
   "source": [
    "## 01. Importing Libraries"
   ]
  },
  {
   "cell_type": "code",
   "execution_count": 1,
   "id": "2e7c6e95",
   "metadata": {},
   "outputs": [],
   "source": [
    "# Import libraries\n",
    "import pandas as pd\n",
    "import numpy as np\n",
    "import os"
   ]
  },
  {
   "cell_type": "markdown",
   "id": "a70b8769",
   "metadata": {},
   "source": [
    "## 02. Data Types"
   ]
  },
  {
   "cell_type": "code",
   "execution_count": 31,
   "id": "f8b7268d",
   "metadata": {},
   "outputs": [
    {
     "data": {
      "text/plain": [
       "100"
      ]
     },
     "execution_count": 31,
     "metadata": {},
     "output_type": "execute_result"
    }
   ],
   "source": [
    "# 3 different ways of reaching a result of 100 by adding or subtracting numeric variables:\n",
    "69 + 31\n"
   ]
  },
  {
   "cell_type": "code",
   "execution_count": 33,
   "id": "2189a0cd",
   "metadata": {},
   "outputs": [
    {
     "data": {
      "text/plain": [
       "100"
      ]
     },
     "execution_count": 33,
     "metadata": {},
     "output_type": "execute_result"
    }
   ],
   "source": [
    "300-200\n"
   ]
  },
  {
   "cell_type": "code",
   "execution_count": 32,
   "id": "b013de62",
   "metadata": {},
   "outputs": [
    {
     "data": {
      "text/plain": [
       "100"
      ]
     },
     "execution_count": 32,
     "metadata": {},
     "output_type": "execute_result"
    }
   ],
   "source": [
    "10+10+10+10+10+10+10+10+10+10"
   ]
  },
  {
   "cell_type": "code",
   "execution_count": 34,
   "id": "cb44d0d0",
   "metadata": {},
   "outputs": [
    {
     "data": {
      "text/plain": [
       "33.8132035770647"
      ]
     },
     "execution_count": 34,
     "metadata": {},
     "output_type": "execute_result"
    }
   ],
   "source": [
    "# Code 2 floating point variables and divide them by each other\n",
    "x = 642.789\n",
    "y = 19.01\n",
    "x / y"
   ]
  },
  {
   "cell_type": "code",
   "execution_count": 35,
   "id": "ae56136b",
   "metadata": {},
   "outputs": [
    {
     "data": {
      "text/plain": [
       "'SWAG'"
      ]
     },
     "execution_count": 35,
     "metadata": {},
     "output_type": "execute_result"
    }
   ],
   "source": [
    "# Construct a short word made of separate strings\n",
    "\"S\"+\"W\"+\"A\"+\"G\""
   ]
  },
  {
   "cell_type": "code",
   "execution_count": 36,
   "id": "3761287e",
   "metadata": {},
   "outputs": [
    {
     "data": {
      "text/plain": [
       "'Stuff We All Get!'"
      ]
     },
     "execution_count": 36,
     "metadata": {},
     "output_type": "execute_result"
    }
   ],
   "source": [
    "#Construct 2 short sentences made of separate strings.\n",
    "\"Stuff \" + \"We \" + \"All \" + \"Get!\""
   ]
  },
  {
   "cell_type": "code",
   "execution_count": 41,
   "id": "c0199314",
   "metadata": {},
   "outputs": [
    {
     "name": "stdout",
     "output_type": "stream",
     "text": [
      "['I', 'basically', 'decorated', 'my', 'condo', 'for', 'free', 'with', 'all', 'of', 'my', 'swag!']\n"
     ]
    }
   ],
   "source": [
    "# for the second short sentence I asked ChatGPT\n",
    "# \"Can you turn this sentence into seperate strings\n",
    "# each one word only,\n",
    "# to be concatenated together in Python: I basically decorated my condo for free with all of my swag!\"\n",
    "sentence = \"I basically decorated my condo for free with all of my swag!\"\n",
    "words = sentence.split()\n",
    "print(words)"
   ]
  },
  {
   "cell_type": "code",
   "execution_count": 40,
   "id": "fddc7477",
   "metadata": {},
   "outputs": [
    {
     "name": "stdout",
     "output_type": "stream",
     "text": [
      "I basically decorated my condo for free with all of my swag!\n"
     ]
    }
   ],
   "source": [
    "concatenated_sentence = ' '.join(words)\n",
    "print(concatenated_sentence)"
   ]
  },
  {
   "cell_type": "code",
   "execution_count": 42,
   "id": "ea17327d",
   "metadata": {},
   "outputs": [
    {
     "data": {
      "text/plain": [
       "'SWAG SWAG SWAG SWAG SWAG SWAG SWAG SWAG SWAG SWAG SWAG SWAG SWAG SWAG SWAG SWAG SWAG SWAG SWAG SWAG SWAG SWAG SWAG SWAG SWAG SWAG SWAG SWAG SWAG SWAG SWAG SWAG SWAG SWAG SWAG SWAG SWAG SWAG SWAG SWAG SWAG SWAG SWAG SWAG SWAG SWAG SWAG SWAG SWAG SWAG SWAG SWAG SWAG SWAG SWAG SWAG SWAG SWAG SWAG SWAG SWAG SWAG SWAG SWAG SWAG SWAG SWAG SWAG SWAG SWAG SWAG SWAG SWAG SWAG SWAG SWAG SWAG SWAG SWAG SWAG SWAG SWAG SWAG SWAG SWAG SWAG SWAG SWAG SWAG SWAG SWAG SWAG SWAG SWAG SWAG SWAG SWAG SWAG SWAG SWAG '"
      ]
     },
     "execution_count": 42,
     "metadata": {},
     "output_type": "execute_result"
    }
   ],
   "source": [
    "#that was fun\n",
    "#BONUS TASK - include a command that makes a string appear 100 times\n",
    "'SWAG ' * 100"
   ]
  }
 ],
 "metadata": {
  "kernelspec": {
   "display_name": "Python 3 (ipykernel)",
   "language": "python",
   "name": "python3"
  },
  "language_info": {
   "codemirror_mode": {
    "name": "ipython",
    "version": 3
   },
   "file_extension": ".py",
   "mimetype": "text/x-python",
   "name": "python",
   "nbconvert_exporter": "python",
   "pygments_lexer": "ipython3",
   "version": "3.11.5"
  }
 },
 "nbformat": 4,
 "nbformat_minor": 5
}
