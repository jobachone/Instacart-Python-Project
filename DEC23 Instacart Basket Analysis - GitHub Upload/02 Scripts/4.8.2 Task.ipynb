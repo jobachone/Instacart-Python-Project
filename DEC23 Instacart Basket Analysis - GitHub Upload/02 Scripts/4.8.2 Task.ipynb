{
 "cells": [
  {
   "cell_type": "markdown",
   "id": "cda2e4e7",
   "metadata": {},
   "source": [
    "# Exercise 4.8 Task"
   ]
  },
  {
   "cell_type": "markdown",
   "id": "ab9b635c",
   "metadata": {},
   "source": [
    "## Contents\n",
    "1. Importing libraries and latest df from 4.7\n",
    "UPDATE: per recommendation from 4.9, moving data cleaning to this notebook, removing outliers from prices.\n",
    "2. Found aggregate mean of \"order_number\" column grouped by \"department_id\" for entire dataframe.\n",
    "3. Result analysis - compared to df subset\n",
    "4. Created 'loyalty_flag' for existing customers\n",
    "5. Used Loyalty Flag to check the basic statistics of the product prices for each customer loyalty designation\n",
    "6. Created spending flag for each user based on average price across all their orders\n",
    "7. Created order frequency flag that marks the regularity of a user's ordering behavior according to the median days in the \"days_since_prior_order\" column.\n",
    "8. Code Cleanliness and Markup Check\n",
    "9. Exported dataframe in pickle format"
   ]
  },
  {
   "cell_type": "markdown",
   "id": "d67c78f8",
   "metadata": {},
   "source": [
    "### Importing Libraries"
   ]
  },
  {
   "cell_type": "code",
   "execution_count": 29,
   "id": "446cb528",
   "metadata": {},
   "outputs": [],
   "source": [
    "import pandas as pd\n",
    "import numpy as np\n",
    "import os"
   ]
  },
  {
   "cell_type": "code",
   "execution_count": 64,
   "id": "379e5902",
   "metadata": {},
   "outputs": [
    {
     "data": {
      "text/plain": [
       "'/Users/jeremyobach/Documents/Data Analytics/CareerFoundry/Achievement 4- Python for DA/DEC23 Instacart Basket Analysis - MASTER FOLDER'"
      ]
     },
     "execution_count": 64,
     "metadata": {},
     "output_type": "execute_result"
    }
   ],
   "source": [
    "# Setting path to Achievement 4 master folder\n",
    "path = r'/Users/jeremyobach/Documents/Data Analytics/CareerFoundry/Achievement 4- Python for DA/DEC23 Instacart Basket Analysis - MASTER FOLDER'\n",
    "#checking path set correctly\n",
    "path"
   ]
  },
  {
   "cell_type": "markdown",
   "id": "220e8c58",
   "metadata": {},
   "source": [
    "## 1. importing ords_prods_merge_derived, latest df version from 4.7, as ords_prods_merge"
   ]
  },
  {
   "cell_type": "code",
   "execution_count": 65,
   "id": "9fa29fbb",
   "metadata": {},
   "outputs": [],
   "source": [
    "ords_prods_merge = pd.read_pickle(os.path.join(path, '02 Data', 'Prepared Data','ords_prods_merge_derived.pkl'))"
   ]
  },
  {
   "cell_type": "markdown",
   "id": "4b6b09e9",
   "metadata": {},
   "source": [
    "### UPDATE: Per recommendation from 4.9 notebook to be strictly for data visualization, moving data cleaning to 4.8 notebook\n",
    "\n",
    "From a failed histogram that scewed all data into one bucket, followd by a scatterplot of prices, we found that there were 99,999 dollar items and 14,900 dollar items in ['prices']. \n",
    "\n",
    "Using loc() function to mark these outlier values as nan/missing."
   ]
  },
  {
   "cell_type": "code",
   "execution_count": 66,
   "id": "5a33761b",
   "metadata": {},
   "outputs": [],
   "source": [
    "ords_prods_merge.loc[ords_prods_merge['prices'] > 100, 'prices'] = np.nan"
   ]
  },
  {
   "cell_type": "code",
   "execution_count": 67,
   "id": "ba58a736",
   "metadata": {},
   "outputs": [
    {
     "data": {
      "text/plain": [
       "25.0"
      ]
     },
     "execution_count": 67,
     "metadata": {},
     "output_type": "execute_result"
    }
   ],
   "source": [
    "ords_prods_merge['prices'].max()"
   ]
  },
  {
   "cell_type": "markdown",
   "id": "26c106bb",
   "metadata": {},
   "source": [
    "Perfect. Logically, you know that a 25 dollar grocery item is much more likely than a $14,900 item (and especially a 99,999 dollar item!).\n",
    "\n",
    "Resuming Exercise 4.8 Task"
   ]
  },
  {
   "cell_type": "markdown",
   "id": "e7d6c5d9",
   "metadata": {},
   "source": [
    "## 2. Find aggregate mean of \"order_number\" column grouped by \"department_id\" for entire dataframe"
   ]
  },
  {
   "cell_type": "code",
   "execution_count": 68,
   "id": "41fbb30a",
   "metadata": {},
   "outputs": [
    {
     "data": {
      "text/html": [
       "<div>\n",
       "<style scoped>\n",
       "    .dataframe tbody tr th:only-of-type {\n",
       "        vertical-align: middle;\n",
       "    }\n",
       "\n",
       "    .dataframe tbody tr th {\n",
       "        vertical-align: top;\n",
       "    }\n",
       "\n",
       "    .dataframe thead tr th {\n",
       "        text-align: left;\n",
       "    }\n",
       "\n",
       "    .dataframe thead tr:last-of-type th {\n",
       "        text-align: right;\n",
       "    }\n",
       "</style>\n",
       "<table border=\"1\" class=\"dataframe\">\n",
       "  <thead>\n",
       "    <tr>\n",
       "      <th></th>\n",
       "      <th>order_number</th>\n",
       "    </tr>\n",
       "    <tr>\n",
       "      <th></th>\n",
       "      <th>mean</th>\n",
       "    </tr>\n",
       "    <tr>\n",
       "      <th>department_id</th>\n",
       "      <th></th>\n",
       "    </tr>\n",
       "  </thead>\n",
       "  <tbody>\n",
       "    <tr>\n",
       "      <th>1</th>\n",
       "      <td>15.457838</td>\n",
       "    </tr>\n",
       "    <tr>\n",
       "      <th>2</th>\n",
       "      <td>17.277920</td>\n",
       "    </tr>\n",
       "    <tr>\n",
       "      <th>3</th>\n",
       "      <td>17.170395</td>\n",
       "    </tr>\n",
       "    <tr>\n",
       "      <th>4</th>\n",
       "      <td>17.811403</td>\n",
       "    </tr>\n",
       "    <tr>\n",
       "      <th>5</th>\n",
       "      <td>15.215751</td>\n",
       "    </tr>\n",
       "    <tr>\n",
       "      <th>6</th>\n",
       "      <td>16.439806</td>\n",
       "    </tr>\n",
       "    <tr>\n",
       "      <th>7</th>\n",
       "      <td>17.225802</td>\n",
       "    </tr>\n",
       "    <tr>\n",
       "      <th>8</th>\n",
       "      <td>15.340650</td>\n",
       "    </tr>\n",
       "    <tr>\n",
       "      <th>9</th>\n",
       "      <td>15.895474</td>\n",
       "    </tr>\n",
       "    <tr>\n",
       "      <th>10</th>\n",
       "      <td>20.197148</td>\n",
       "    </tr>\n",
       "    <tr>\n",
       "      <th>11</th>\n",
       "      <td>16.170638</td>\n",
       "    </tr>\n",
       "    <tr>\n",
       "      <th>12</th>\n",
       "      <td>15.887671</td>\n",
       "    </tr>\n",
       "    <tr>\n",
       "      <th>13</th>\n",
       "      <td>16.583536</td>\n",
       "    </tr>\n",
       "    <tr>\n",
       "      <th>14</th>\n",
       "      <td>16.773669</td>\n",
       "    </tr>\n",
       "    <tr>\n",
       "      <th>15</th>\n",
       "      <td>16.165037</td>\n",
       "    </tr>\n",
       "    <tr>\n",
       "      <th>16</th>\n",
       "      <td>17.665606</td>\n",
       "    </tr>\n",
       "    <tr>\n",
       "      <th>17</th>\n",
       "      <td>15.694469</td>\n",
       "    </tr>\n",
       "    <tr>\n",
       "      <th>18</th>\n",
       "      <td>19.310397</td>\n",
       "    </tr>\n",
       "    <tr>\n",
       "      <th>19</th>\n",
       "      <td>17.177343</td>\n",
       "    </tr>\n",
       "    <tr>\n",
       "      <th>20</th>\n",
       "      <td>16.473447</td>\n",
       "    </tr>\n",
       "    <tr>\n",
       "      <th>21</th>\n",
       "      <td>22.902379</td>\n",
       "    </tr>\n",
       "  </tbody>\n",
       "</table>\n",
       "</div>"
      ],
      "text/plain": [
       "              order_number\n",
       "                      mean\n",
       "department_id             \n",
       "1                15.457838\n",
       "2                17.277920\n",
       "3                17.170395\n",
       "4                17.811403\n",
       "5                15.215751\n",
       "6                16.439806\n",
       "7                17.225802\n",
       "8                15.340650\n",
       "9                15.895474\n",
       "10               20.197148\n",
       "11               16.170638\n",
       "12               15.887671\n",
       "13               16.583536\n",
       "14               16.773669\n",
       "15               16.165037\n",
       "16               17.665606\n",
       "17               15.694469\n",
       "18               19.310397\n",
       "19               17.177343\n",
       "20               16.473447\n",
       "21               22.902379"
      ]
     },
     "execution_count": 68,
     "metadata": {},
     "output_type": "execute_result"
    }
   ],
   "source": [
    "ords_prods_merge.groupby('department_id').agg({'order_number':['mean']})"
   ]
  },
  {
   "cell_type": "markdown",
   "id": "425103c8",
   "metadata": {},
   "source": [
    "## 3. Analyze the result\n",
    "### Compared to the subset, the results from the entire dataframe are not terribly different. \n",
    "\n",
    "Department_id's 1-5, 7 , 9-13, 15, 17-19 would all round to the same integer of order numbers. Department_id's 6,8,14, 16,20, and 21 differ by about 1 order."
   ]
  },
  {
   "cell_type": "markdown",
   "id": "4497866c",
   "metadata": {},
   "source": [
    "## 4. Create a Loyalty flag for existing customers using the transform() and loc() functions"
   ]
  },
  {
   "cell_type": "markdown",
   "id": "bb3294c2",
   "metadata": {},
   "source": [
    "#### 1. Splitting the data into groups based on \"user-Id column\n",
    "#### 2. Applying the transform() function on the \"order_number\" column to generate the maximum orders for each user\n",
    "Using numpy to derive max for the column\n",
    "#### 3. Creating a new column, \"max_order\" in which to place the results of this aggregation.\n"
   ]
  },
  {
   "cell_type": "code",
   "execution_count": 69,
   "id": "2c353e65",
   "metadata": {},
   "outputs": [
    {
     "name": "stderr",
     "output_type": "stream",
     "text": [
      "/var/folders/12/fz0w81fd1mb1hklwgzyg3bx00000gn/T/ipykernel_6445/1681540670.py:1: FutureWarning: The provided callable <function amax at 0x107030ae0> is currently using SeriesGroupBy.max. In a future version of pandas, the provided callable will be used directly. To keep current behavior pass the string \"max\" instead.\n",
      "  ords_prods_merge['max_order'] = ords_prods_merge.groupby(['user_id'])['order_number'].transform(np.max)\n"
     ]
    }
   ],
   "source": [
    "ords_prods_merge['max_order'] = ords_prods_merge.groupby(['user_id'])['order_number'].transform(np.max)"
   ]
  },
  {
   "cell_type": "code",
   "execution_count": 70,
   "id": "d033ccdb",
   "metadata": {},
   "outputs": [
    {
     "name": "stderr",
     "output_type": "stream",
     "text": [
      "/var/folders/12/fz0w81fd1mb1hklwgzyg3bx00000gn/T/ipykernel_6445/3647449420.py:1: FutureWarning: Setting an item of incompatible dtype is deprecated and will raise in a future error of pandas. Value 'Loyal customer' has dtype incompatible with float64, please explicitly cast to a compatible dtype first.\n",
      "  ords_prods_merge.loc[ords_prods_merge['max_order'] > 40, 'loyalty_flag'] = 'Loyal customer'\n"
     ]
    }
   ],
   "source": [
    "ords_prods_merge.loc[ords_prods_merge['max_order'] > 40, 'loyalty_flag'] = 'Loyal customer'"
   ]
  },
  {
   "cell_type": "code",
   "execution_count": 71,
   "id": "fabc2a59",
   "metadata": {},
   "outputs": [],
   "source": [
    "ords_prods_merge.loc[(ords_prods_merge['max_order'] <= 40) & (ords_prods_merge['max_order'] > 10), 'loyalty_flag'] = 'Regular customer'"
   ]
  },
  {
   "cell_type": "code",
   "execution_count": 72,
   "id": "b5bc7244",
   "metadata": {},
   "outputs": [],
   "source": [
    "ords_prods_merge.loc[ords_prods_merge['max_order'] <= 10, 'loyalty_flag'] = 'New customer'"
   ]
  },
  {
   "cell_type": "code",
   "execution_count": 73,
   "id": "b56255d8",
   "metadata": {},
   "outputs": [
    {
     "data": {
      "text/plain": [
       "loyalty_flag\n",
       "Regular customer    15876776\n",
       "Loyal customer      10284093\n",
       "New customer         6243990\n",
       "Name: count, dtype: int64"
      ]
     },
     "execution_count": 73,
     "metadata": {},
     "output_type": "execute_result"
    }
   ],
   "source": [
    "ords_prods_merge['loyalty_flag'].value_counts(dropna = False)"
   ]
  },
  {
   "cell_type": "code",
   "execution_count": 74,
   "id": "796bf21c",
   "metadata": {},
   "outputs": [
    {
     "data": {
      "text/html": [
       "<div>\n",
       "<style scoped>\n",
       "    .dataframe tbody tr th:only-of-type {\n",
       "        vertical-align: middle;\n",
       "    }\n",
       "\n",
       "    .dataframe tbody tr th {\n",
       "        vertical-align: top;\n",
       "    }\n",
       "\n",
       "    .dataframe thead th {\n",
       "        text-align: right;\n",
       "    }\n",
       "</style>\n",
       "<table border=\"1\" class=\"dataframe\">\n",
       "  <thead>\n",
       "    <tr style=\"text-align: right;\">\n",
       "      <th></th>\n",
       "      <th>order_id</th>\n",
       "      <th>user_id</th>\n",
       "      <th>order_number</th>\n",
       "      <th>orders_day_of_week</th>\n",
       "      <th>orders_hour_of_day</th>\n",
       "      <th>days_since_prior_order</th>\n",
       "      <th>first_order</th>\n",
       "      <th>product_id</th>\n",
       "      <th>add_to_cart_order</th>\n",
       "      <th>reordered</th>\n",
       "      <th>_merge</th>\n",
       "      <th>product_name</th>\n",
       "      <th>aisle_id</th>\n",
       "      <th>department_id</th>\n",
       "      <th>prices</th>\n",
       "      <th>price_range_loc</th>\n",
       "      <th>busiest_days</th>\n",
       "      <th>busiest_period_of_day</th>\n",
       "      <th>max_order</th>\n",
       "      <th>loyalty_flag</th>\n",
       "    </tr>\n",
       "  </thead>\n",
       "  <tbody>\n",
       "    <tr>\n",
       "      <th>0</th>\n",
       "      <td>2539329</td>\n",
       "      <td>1</td>\n",
       "      <td>1</td>\n",
       "      <td>2</td>\n",
       "      <td>8</td>\n",
       "      <td>NaN</td>\n",
       "      <td>True</td>\n",
       "      <td>196</td>\n",
       "      <td>1</td>\n",
       "      <td>0</td>\n",
       "      <td>both</td>\n",
       "      <td>Soda</td>\n",
       "      <td>77</td>\n",
       "      <td>7</td>\n",
       "      <td>9.0</td>\n",
       "      <td>Mid range product</td>\n",
       "      <td>Regularly busy</td>\n",
       "      <td>Average orders</td>\n",
       "      <td>10</td>\n",
       "      <td>New customer</td>\n",
       "    </tr>\n",
       "    <tr>\n",
       "      <th>1</th>\n",
       "      <td>2398795</td>\n",
       "      <td>1</td>\n",
       "      <td>2</td>\n",
       "      <td>3</td>\n",
       "      <td>7</td>\n",
       "      <td>15.0</td>\n",
       "      <td>False</td>\n",
       "      <td>196</td>\n",
       "      <td>1</td>\n",
       "      <td>1</td>\n",
       "      <td>both</td>\n",
       "      <td>Soda</td>\n",
       "      <td>77</td>\n",
       "      <td>7</td>\n",
       "      <td>9.0</td>\n",
       "      <td>Mid range product</td>\n",
       "      <td>Slowest days</td>\n",
       "      <td>Average orders</td>\n",
       "      <td>10</td>\n",
       "      <td>New customer</td>\n",
       "    </tr>\n",
       "    <tr>\n",
       "      <th>2</th>\n",
       "      <td>473747</td>\n",
       "      <td>1</td>\n",
       "      <td>3</td>\n",
       "      <td>3</td>\n",
       "      <td>12</td>\n",
       "      <td>21.0</td>\n",
       "      <td>False</td>\n",
       "      <td>196</td>\n",
       "      <td>1</td>\n",
       "      <td>1</td>\n",
       "      <td>both</td>\n",
       "      <td>Soda</td>\n",
       "      <td>77</td>\n",
       "      <td>7</td>\n",
       "      <td>9.0</td>\n",
       "      <td>Mid range product</td>\n",
       "      <td>Slowest days</td>\n",
       "      <td>Most orders</td>\n",
       "      <td>10</td>\n",
       "      <td>New customer</td>\n",
       "    </tr>\n",
       "    <tr>\n",
       "      <th>3</th>\n",
       "      <td>2254736</td>\n",
       "      <td>1</td>\n",
       "      <td>4</td>\n",
       "      <td>4</td>\n",
       "      <td>7</td>\n",
       "      <td>29.0</td>\n",
       "      <td>False</td>\n",
       "      <td>196</td>\n",
       "      <td>1</td>\n",
       "      <td>1</td>\n",
       "      <td>both</td>\n",
       "      <td>Soda</td>\n",
       "      <td>77</td>\n",
       "      <td>7</td>\n",
       "      <td>9.0</td>\n",
       "      <td>Mid range product</td>\n",
       "      <td>Slowest days</td>\n",
       "      <td>Average orders</td>\n",
       "      <td>10</td>\n",
       "      <td>New customer</td>\n",
       "    </tr>\n",
       "    <tr>\n",
       "      <th>4</th>\n",
       "      <td>431534</td>\n",
       "      <td>1</td>\n",
       "      <td>5</td>\n",
       "      <td>4</td>\n",
       "      <td>15</td>\n",
       "      <td>28.0</td>\n",
       "      <td>False</td>\n",
       "      <td>196</td>\n",
       "      <td>1</td>\n",
       "      <td>1</td>\n",
       "      <td>both</td>\n",
       "      <td>Soda</td>\n",
       "      <td>77</td>\n",
       "      <td>7</td>\n",
       "      <td>9.0</td>\n",
       "      <td>Mid range product</td>\n",
       "      <td>Slowest days</td>\n",
       "      <td>Most orders</td>\n",
       "      <td>10</td>\n",
       "      <td>New customer</td>\n",
       "    </tr>\n",
       "  </tbody>\n",
       "</table>\n",
       "</div>"
      ],
      "text/plain": [
       "   order_id  user_id  order_number  orders_day_of_week  orders_hour_of_day  \\\n",
       "0   2539329        1             1                   2                   8   \n",
       "1   2398795        1             2                   3                   7   \n",
       "2    473747        1             3                   3                  12   \n",
       "3   2254736        1             4                   4                   7   \n",
       "4    431534        1             5                   4                  15   \n",
       "\n",
       "   days_since_prior_order  first_order  product_id  add_to_cart_order  \\\n",
       "0                     NaN         True         196                  1   \n",
       "1                    15.0        False         196                  1   \n",
       "2                    21.0        False         196                  1   \n",
       "3                    29.0        False         196                  1   \n",
       "4                    28.0        False         196                  1   \n",
       "\n",
       "   reordered _merge product_name  aisle_id  department_id  prices  \\\n",
       "0          0   both         Soda        77              7     9.0   \n",
       "1          1   both         Soda        77              7     9.0   \n",
       "2          1   both         Soda        77              7     9.0   \n",
       "3          1   both         Soda        77              7     9.0   \n",
       "4          1   both         Soda        77              7     9.0   \n",
       "\n",
       "     price_range_loc    busiest_days busiest_period_of_day  max_order  \\\n",
       "0  Mid range product  Regularly busy        Average orders         10   \n",
       "1  Mid range product    Slowest days        Average orders         10   \n",
       "2  Mid range product    Slowest days           Most orders         10   \n",
       "3  Mid range product    Slowest days        Average orders         10   \n",
       "4  Mid range product    Slowest days           Most orders         10   \n",
       "\n",
       "   loyalty_flag  \n",
       "0  New customer  \n",
       "1  New customer  \n",
       "2  New customer  \n",
       "3  New customer  \n",
       "4  New customer  "
      ]
     },
     "execution_count": 74,
     "metadata": {},
     "output_type": "execute_result"
    }
   ],
   "source": [
    "ords_prods_merge.head()"
   ]
  },
  {
   "cell_type": "markdown",
   "id": "3418e629",
   "metadata": {},
   "source": [
    "## 5. Use Loyalty Flag and check the basic statistics of the product prices for  each loyalty customer\n",
    "What you're trying to determine is whether the prices of products purchased by loyal customers differ from those purchased by regular or new customers"
   ]
  },
  {
   "cell_type": "code",
   "execution_count": 75,
   "id": "3589dcd6",
   "metadata": {},
   "outputs": [
    {
     "data": {
      "text/html": [
       "<div>\n",
       "<style scoped>\n",
       "    .dataframe tbody tr th:only-of-type {\n",
       "        vertical-align: middle;\n",
       "    }\n",
       "\n",
       "    .dataframe tbody tr th {\n",
       "        vertical-align: top;\n",
       "    }\n",
       "\n",
       "    .dataframe thead tr th {\n",
       "        text-align: left;\n",
       "    }\n",
       "\n",
       "    .dataframe thead tr:last-of-type th {\n",
       "        text-align: right;\n",
       "    }\n",
       "</style>\n",
       "<table border=\"1\" class=\"dataframe\">\n",
       "  <thead>\n",
       "    <tr>\n",
       "      <th></th>\n",
       "      <th colspan=\"3\" halign=\"left\">prices</th>\n",
       "    </tr>\n",
       "    <tr>\n",
       "      <th></th>\n",
       "      <th>mean</th>\n",
       "      <th>min</th>\n",
       "      <th>max</th>\n",
       "    </tr>\n",
       "    <tr>\n",
       "      <th>loyalty_flag</th>\n",
       "      <th></th>\n",
       "      <th></th>\n",
       "      <th></th>\n",
       "    </tr>\n",
       "  </thead>\n",
       "  <tbody>\n",
       "    <tr>\n",
       "      <th>Loyal customer</th>\n",
       "      <td>7.773575</td>\n",
       "      <td>1.0</td>\n",
       "      <td>25.0</td>\n",
       "    </tr>\n",
       "    <tr>\n",
       "      <th>New customer</th>\n",
       "      <td>7.801206</td>\n",
       "      <td>1.0</td>\n",
       "      <td>25.0</td>\n",
       "    </tr>\n",
       "    <tr>\n",
       "      <th>Regular customer</th>\n",
       "      <td>7.798262</td>\n",
       "      <td>1.0</td>\n",
       "      <td>25.0</td>\n",
       "    </tr>\n",
       "  </tbody>\n",
       "</table>\n",
       "</div>"
      ],
      "text/plain": [
       "                    prices           \n",
       "                      mean  min   max\n",
       "loyalty_flag                         \n",
       "Loyal customer    7.773575  1.0  25.0\n",
       "New customer      7.801206  1.0  25.0\n",
       "Regular customer  7.798262  1.0  25.0"
      ]
     },
     "execution_count": 75,
     "metadata": {},
     "output_type": "execute_result"
    }
   ],
   "source": [
    "ords_prods_merge.groupby('loyalty_flag').agg({'prices':['mean','min','max']})"
   ]
  },
  {
   "cell_type": "markdown",
   "id": "b86887f8",
   "metadata": {},
   "source": [
    "### noteable - loyal customers purchase items of lower average price than new and regular customers.\n",
    "\n",
    "UPDATE: with data cleaning removing outliers, price average has lowered and leveled out generally compared to before. Still, loyal customers slightly lower spending per item."
   ]
  },
  {
   "cell_type": "markdown",
   "id": "1dc131f0",
   "metadata": {},
   "source": [
    "## 6. Create a spending flag for each user based on average price across all their orders using the following criteria:\n",
    "- if the mean of the prices of products purchased by a user is lower than 10, then flag them as a \"Low spender\"\n",
    "- if higher than 10, flag them as a \"high spender\""
   ]
  },
  {
   "cell_type": "code",
   "execution_count": 76,
   "id": "96bbe167",
   "metadata": {},
   "outputs": [
    {
     "name": "stderr",
     "output_type": "stream",
     "text": [
      "/var/folders/12/fz0w81fd1mb1hklwgzyg3bx00000gn/T/ipykernel_6445/3037767957.py:1: FutureWarning: The provided callable <function mean at 0x107031800> is currently using SeriesGroupBy.mean. In a future version of pandas, the provided callable will be used directly. To keep current behavior pass the string \"mean\" instead.\n",
      "  ords_prods_merge['avg_prod_price'] = ords_prods_merge.groupby(['user_id'])['prices'].transform(np.mean)\n"
     ]
    }
   ],
   "source": [
    "ords_prods_merge['avg_prod_price'] = ords_prods_merge.groupby(['user_id'])['prices'].transform(np.mean)"
   ]
  },
  {
   "cell_type": "code",
   "execution_count": 77,
   "id": "eadbd9e7",
   "metadata": {},
   "outputs": [
    {
     "name": "stderr",
     "output_type": "stream",
     "text": [
      "/var/folders/12/fz0w81fd1mb1hklwgzyg3bx00000gn/T/ipykernel_6445/1929718489.py:1: FutureWarning: Setting an item of incompatible dtype is deprecated and will raise in a future error of pandas. Value 'Low spender' has dtype incompatible with float64, please explicitly cast to a compatible dtype first.\n",
      "  ords_prods_merge.loc[ords_prods_merge['avg_prod_price']< 10, 'spending_type'] = 'Low spender'\n"
     ]
    }
   ],
   "source": [
    "ords_prods_merge.loc[ords_prods_merge['avg_prod_price']< 10, 'spending_type'] = 'Low spender'"
   ]
  },
  {
   "cell_type": "code",
   "execution_count": 78,
   "id": "23ca5b90",
   "metadata": {},
   "outputs": [],
   "source": [
    "ords_prods_merge.loc[ords_prods_merge['avg_prod_price']>= 10, 'spending_type'] = 'High spender'"
   ]
  },
  {
   "cell_type": "code",
   "execution_count": 79,
   "id": "95a31d6a",
   "metadata": {},
   "outputs": [
    {
     "data": {
      "text/plain": [
       "spending_type\n",
       "Low spender     32285131\n",
       "High spender      119728\n",
       "Name: count, dtype: int64"
      ]
     },
     "execution_count": 79,
     "metadata": {},
     "output_type": "execute_result"
    }
   ],
   "source": [
    "ords_prods_merge['spending_type'].value_counts(dropna = False)"
   ]
  },
  {
   "cell_type": "markdown",
   "id": "5b4a90fb",
   "metadata": {},
   "source": [
    "### With our new spending_type flag, we've created two categories of spenders for which to target in our marketing campaigns"
   ]
  },
  {
   "cell_type": "markdown",
   "id": "0065edfd",
   "metadata": {},
   "source": [
    "## 7. Create order frequency flag that marks the regularity of a user's ordering behavior according to the median days in the \"days_since_prior_order\" column. The criteria for the flag should be as follows:\n",
    "- If the median of “days_since_prior_order” is higher than 20, then the customer should be labeled a “Non-frequent customer.”\n",
    "- If the median is higher than 10 and lower than or equal to 20, then the customer should be labeled a “Regular customer.”\n",
    "- If the median is lower than or equal to 10, then the customer should be labeled a “Frequent customer.”"
   ]
  },
  {
   "cell_type": "code",
   "execution_count": 80,
   "id": "8734bebc",
   "metadata": {},
   "outputs": [
    {
     "name": "stderr",
     "output_type": "stream",
     "text": [
      "/var/folders/12/fz0w81fd1mb1hklwgzyg3bx00000gn/T/ipykernel_6445/3035388166.py:1: FutureWarning: The provided callable <function median at 0x10716bb00> is currently using SeriesGroupBy.median. In a future version of pandas, the provided callable will be used directly. To keep current behavior pass the string \"median\" instead.\n",
      "  ords_prods_merge['ordering_behavior'] = ords_prods_merge.groupby(['user_id'])['days_since_prior_order'].transform(np.median)\n"
     ]
    }
   ],
   "source": [
    "ords_prods_merge['ordering_behavior'] = ords_prods_merge.groupby(['user_id'])['days_since_prior_order'].transform(np.median)"
   ]
  },
  {
   "cell_type": "code",
   "execution_count": 81,
   "id": "a79f1f97",
   "metadata": {},
   "outputs": [
    {
     "name": "stderr",
     "output_type": "stream",
     "text": [
      "/var/folders/12/fz0w81fd1mb1hklwgzyg3bx00000gn/T/ipykernel_6445/1665527913.py:1: FutureWarning: Setting an item of incompatible dtype is deprecated and will raise in a future error of pandas. Value 'Non-frequent_customer' has dtype incompatible with float64, please explicitly cast to a compatible dtype first.\n",
      "  ords_prods_merge.loc[ords_prods_merge['ordering_behavior'] > 20, 'frequency_flag'] = 'Non-frequent_customer'\n"
     ]
    }
   ],
   "source": [
    "ords_prods_merge.loc[ords_prods_merge['ordering_behavior'] > 20, 'frequency_flag'] = 'Non-frequent_customer'"
   ]
  },
  {
   "cell_type": "code",
   "execution_count": 82,
   "id": "97a67692",
   "metadata": {},
   "outputs": [],
   "source": [
    "ords_prods_merge.loc[(ords_prods_merge['days_since_prior_order'] > 10) & (ords_prods_merge['ordering_behavior'] <=20.0), 'frequency_flag'] = 'Regular_customer'"
   ]
  },
  {
   "cell_type": "code",
   "execution_count": 83,
   "id": "975e25cd",
   "metadata": {},
   "outputs": [],
   "source": [
    "ords_prods_merge.loc[ords_prods_merge['ordering_behavior']<= 10, 'frequency_flag'] = 'Frequent customer'"
   ]
  },
  {
   "cell_type": "code",
   "execution_count": 84,
   "id": "f43b6165",
   "metadata": {},
   "outputs": [
    {
     "data": {
      "text/plain": [
       "frequency_flag\n",
       "Frequent customer        21559853\n",
       "Regular_customer          4486672\n",
       "Non-frequent_customer     3636437\n",
       "NaN                       2721897\n",
       "Name: count, dtype: int64"
      ]
     },
     "execution_count": 84,
     "metadata": {},
     "output_type": "execute_result"
    }
   ],
   "source": [
    "ords_prods_merge['frequency_flag'].value_counts(dropna = False)"
   ]
  },
  {
   "cell_type": "code",
   "execution_count": 85,
   "id": "eb3a5582",
   "metadata": {},
   "outputs": [
    {
     "data": {
      "text/plain": [
       "(32404859, 24)"
      ]
     },
     "execution_count": 85,
     "metadata": {},
     "output_type": "execute_result"
    }
   ],
   "source": [
    "ords_prods_merge.shape\n",
    "\n",
    "# checking how the table looks now."
   ]
  },
  {
   "cell_type": "code",
   "execution_count": 89,
   "id": "8808aaf8",
   "metadata": {},
   "outputs": [
    {
     "data": {
      "text/plain": [
       "Index(['order_id', 'user_id', 'order_number', 'orders_day_of_week',\n",
       "       'orders_hour_of_day', 'days_since_prior_order', 'first_order',\n",
       "       'product_id', 'add_to_cart_order', 'reordered', 'product_name',\n",
       "       'aisle_id', 'department_id', 'prices', 'price_range_loc',\n",
       "       'busiest_days', 'busiest_period_of_day', 'max_order', 'loyalty_flag',\n",
       "       'avg_prod_price', 'spending_type', 'ordering_behavior',\n",
       "       'frequency_flag'],\n",
       "      dtype='object')"
      ]
     },
     "execution_count": 89,
     "metadata": {},
     "output_type": "execute_result"
    }
   ],
   "source": [
    "ords_prods_merge.columns"
   ]
  },
  {
   "cell_type": "code",
   "execution_count": 88,
   "id": "71cd032c",
   "metadata": {},
   "outputs": [],
   "source": [
    "# dropping '_merge' column\n",
    "\n",
    "ords_prods_merge = ords_prods_merge.drop(columns = '_merge')"
   ]
  },
  {
   "cell_type": "markdown",
   "id": "22f4a1a2",
   "metadata": {},
   "source": [
    "## 8. Ensure clean and structured notebook, well commented code.\n",
    "Could probably do to comment more but I think my processes were straightforward."
   ]
  },
  {
   "cell_type": "markdown",
   "id": "0cef337e",
   "metadata": {},
   "source": [
    "## 9. Export dataframe as pickle file and store in \"Prepared Data\" folder"
   ]
  },
  {
   "cell_type": "code",
   "execution_count": null,
   "id": "ef5d6ffc",
   "metadata": {},
   "outputs": [],
   "source": [
    "ords_prods_merge.to_pickle(os.path.join(path, '02 Data', 'Prepared Data', 'ords_prods_merge_48.pkl'))"
   ]
  },
  {
   "cell_type": "code",
   "execution_count": null,
   "id": "fb1187b8",
   "metadata": {},
   "outputs": [],
   "source": []
  }
 ],
 "metadata": {
  "kernelspec": {
   "display_name": "Python 3 (ipykernel)",
   "language": "python",
   "name": "python3"
  },
  "language_info": {
   "codemirror_mode": {
    "name": "ipython",
    "version": 3
   },
   "file_extension": ".py",
   "mimetype": "text/x-python",
   "name": "python",
   "nbconvert_exporter": "python",
   "pygments_lexer": "ipython3",
   "version": "3.11.5"
  }
 },
 "nbformat": 4,
 "nbformat_minor": 5
}
