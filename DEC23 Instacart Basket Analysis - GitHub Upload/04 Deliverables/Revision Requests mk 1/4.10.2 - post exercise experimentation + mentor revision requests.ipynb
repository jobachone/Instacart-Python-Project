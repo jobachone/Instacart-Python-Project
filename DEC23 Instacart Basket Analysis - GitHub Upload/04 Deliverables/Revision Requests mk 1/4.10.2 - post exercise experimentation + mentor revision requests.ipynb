{
 "cells": [
  {
   "cell_type": "markdown",
   "id": "aa7cb68e",
   "metadata": {},
   "source": [
    "# Exercise 4.10 Task Part 2 - Experimentation"
   ]
  },
  {
   "cell_type": "markdown",
   "id": "2733f5ed",
   "metadata": {},
   "source": [
    "## Contents\n",
    "\n",
    "1. Import libraries and ords_prods_active\n",
    "    - customers with less than 5 orders already removed.\n",
    "2. Experimentation"
   ]
  },
  {
   "cell_type": "code",
   "execution_count": 2,
   "id": "49d24aba",
   "metadata": {},
   "outputs": [],
   "source": [
    "# Import libraries\n",
    "\n",
    "import pandas as pd\n",
    "import numpy as np\n",
    "import os\n",
    "import matplotlib.pyplot as plt\n",
    "import seaborn as sns\n",
    "from scipy.stats import mode"
   ]
  },
  {
   "cell_type": "markdown",
   "id": "318aeb12",
   "metadata": {},
   "source": [
    "### Import Orders_products_active from Exercise 4.10.1 as df"
   ]
  },
  {
   "cell_type": "code",
   "execution_count": 3,
   "id": "4ffd9290",
   "metadata": {},
   "outputs": [
    {
     "data": {
      "text/plain": [
       "'/Users/jeremyobach/Documents/Data Analytics/CareerFoundry/Achievement 4- Python for DA/DEC23 Instacart Basket Analysis - MASTER FOLDER'"
      ]
     },
     "execution_count": 3,
     "metadata": {},
     "output_type": "execute_result"
    }
   ],
   "source": [
    "# Setting path to Achievement 4 master folder\n",
    "path = r'/Users/jeremyobach/Documents/Data Analytics/CareerFoundry/Achievement 4- Python for DA/DEC23 Instacart Basket Analysis - MASTER FOLDER'\n",
    "#checking path set correctly\n",
    "path"
   ]
  },
  {
   "cell_type": "code",
   "execution_count": 4,
   "id": "84f6a5bc",
   "metadata": {},
   "outputs": [],
   "source": [
    "df = pd.read_csv(os.path.join(path, '02 Data', 'Prepared Data', 'Final Project Data','ords_prods_active.csv'), index_col = False)"
   ]
  },
  {
   "cell_type": "markdown",
   "id": "c5d9a966",
   "metadata": {},
   "source": [
    "### Importing customer profile dataframes for further analysis"
   ]
  },
  {
   "cell_type": "code",
   "execution_count": 14,
   "id": "05587923",
   "metadata": {},
   "outputs": [],
   "source": [
    "df_divwid = pd.read_csv(os.path.join(path, '02 Data', 'Prepared Data', 'Final Project Data', 'ords_prods_divwid.csv'), index_col = False)\n",
    "df_drizly = pd.read_csv(os.path.join(path, '02 Data', 'Prepared Data', 'Final Project Data', 'ords_prods_drizly.csv'), index_col = False)\n",
    "df_nightowl = pd.read_csv(os.path.join(path, '02 Data', 'Prepared Data', 'Final Project Data', 'ords_prods_nightowl.csv'), index_col = False)\n",
    "df_whale = pd.read_csv(os.path.join(path, '02 Data', 'Prepared Data', 'Final Project Data', 'ords_prods_whale.csv'), index_col = False)\n",
    "df_yp = pd.read_csv(os.path.join(path, '02 Data', 'Prepared Data', 'Final Project Data', 'ords_prods_young_parent.csv'), index_col = False)"
   ]
  },
  {
   "cell_type": "code",
   "execution_count": 15,
   "id": "4e2ea095",
   "metadata": {},
   "outputs": [],
   "source": [
    "pd.options.display.max_columns = None"
   ]
  },
  {
   "cell_type": "code",
   "execution_count": 17,
   "id": "ed95d36e",
   "metadata": {},
   "outputs": [
    {
     "data": {
      "text/html": [
       "<div>\n",
       "<style scoped>\n",
       "    .dataframe tbody tr th:only-of-type {\n",
       "        vertical-align: middle;\n",
       "    }\n",
       "\n",
       "    .dataframe tbody tr th {\n",
       "        vertical-align: top;\n",
       "    }\n",
       "\n",
       "    .dataframe thead th {\n",
       "        text-align: right;\n",
       "    }\n",
       "</style>\n",
       "<table border=\"1\" class=\"dataframe\">\n",
       "  <thead>\n",
       "    <tr style=\"text-align: right;\">\n",
       "      <th></th>\n",
       "      <th>Unnamed: 0</th>\n",
       "      <th>order_id</th>\n",
       "      <th>user_id</th>\n",
       "      <th>order_number</th>\n",
       "      <th>orders_day_of_week</th>\n",
       "      <th>orders_hour_of_day</th>\n",
       "      <th>days_since_prior_order</th>\n",
       "      <th>first_order</th>\n",
       "      <th>product_id</th>\n",
       "      <th>add_to_cart_order</th>\n",
       "      <th>reordered</th>\n",
       "      <th>product_name</th>\n",
       "      <th>aisle_id</th>\n",
       "      <th>department_id</th>\n",
       "      <th>prices</th>\n",
       "      <th>price_range_loc</th>\n",
       "      <th>busiest_days</th>\n",
       "      <th>busiest_period_of_day</th>\n",
       "      <th>loyalty_flag</th>\n",
       "      <th>spending_type</th>\n",
       "      <th>frequency_flag</th>\n",
       "      <th>Gender</th>\n",
       "      <th>STATE</th>\n",
       "      <th>Age</th>\n",
       "      <th>date_joined</th>\n",
       "      <th>n_dependants</th>\n",
       "      <th>fam_status</th>\n",
       "      <th>income</th>\n",
       "      <th>Region</th>\n",
       "      <th>max_order</th>\n",
       "      <th>low_activity</th>\n",
       "      <th>generation</th>\n",
       "      <th>customer_profile</th>\n",
       "      <th>mean_order_hour</th>\n",
       "      <th>favorite_department</th>\n",
       "      <th>LTV</th>\n",
       "    </tr>\n",
       "  </thead>\n",
       "  <tbody>\n",
       "    <tr>\n",
       "      <th>0</th>\n",
       "      <td>608</td>\n",
       "      <td>2910377</td>\n",
       "      <td>3794</td>\n",
       "      <td>67</td>\n",
       "      <td>5</td>\n",
       "      <td>12</td>\n",
       "      <td>4.0</td>\n",
       "      <td>False</td>\n",
       "      <td>196</td>\n",
       "      <td>1</td>\n",
       "      <td>0</td>\n",
       "      <td>Soda</td>\n",
       "      <td>77</td>\n",
       "      <td>7</td>\n",
       "      <td>9.0</td>\n",
       "      <td>Mid range product</td>\n",
       "      <td>Regularly busy</td>\n",
       "      <td>Most orders</td>\n",
       "      <td>Loyal customer</td>\n",
       "      <td>Low spender</td>\n",
       "      <td>Frequent customer</td>\n",
       "      <td>Male</td>\n",
       "      <td>Maine</td>\n",
       "      <td>65</td>\n",
       "      <td>2/16/2018</td>\n",
       "      <td>1</td>\n",
       "      <td>married</td>\n",
       "      <td>165736</td>\n",
       "      <td>Northeast</td>\n",
       "      <td>86</td>\n",
       "      <td>N</td>\n",
       "      <td>Baby Boomer</td>\n",
       "      <td>Whale</td>\n",
       "      <td>13.925303</td>\n",
       "      <td>20</td>\n",
       "      <td>11893.4</td>\n",
       "    </tr>\n",
       "    <tr>\n",
       "      <th>1</th>\n",
       "      <td>5619</td>\n",
       "      <td>1368258</td>\n",
       "      <td>31355</td>\n",
       "      <td>61</td>\n",
       "      <td>0</td>\n",
       "      <td>8</td>\n",
       "      <td>3.0</td>\n",
       "      <td>False</td>\n",
       "      <td>196</td>\n",
       "      <td>12</td>\n",
       "      <td>0</td>\n",
       "      <td>Soda</td>\n",
       "      <td>77</td>\n",
       "      <td>7</td>\n",
       "      <td>9.0</td>\n",
       "      <td>Mid range product</td>\n",
       "      <td>Busiest days</td>\n",
       "      <td>Average orders</td>\n",
       "      <td>Loyal customer</td>\n",
       "      <td>Low spender</td>\n",
       "      <td>Frequent customer</td>\n",
       "      <td>Female</td>\n",
       "      <td>South Carolina</td>\n",
       "      <td>42</td>\n",
       "      <td>1/18/2020</td>\n",
       "      <td>1</td>\n",
       "      <td>married</td>\n",
       "      <td>109995</td>\n",
       "      <td>South</td>\n",
       "      <td>93</td>\n",
       "      <td>N</td>\n",
       "      <td>Millennial</td>\n",
       "      <td>Whale</td>\n",
       "      <td>11.826437</td>\n",
       "      <td>21</td>\n",
       "      <td>13041.3</td>\n",
       "    </tr>\n",
       "    <tr>\n",
       "      <th>2</th>\n",
       "      <td>5620</td>\n",
       "      <td>2715416</td>\n",
       "      <td>31355</td>\n",
       "      <td>63</td>\n",
       "      <td>4</td>\n",
       "      <td>10</td>\n",
       "      <td>2.0</td>\n",
       "      <td>False</td>\n",
       "      <td>196</td>\n",
       "      <td>14</td>\n",
       "      <td>1</td>\n",
       "      <td>Soda</td>\n",
       "      <td>77</td>\n",
       "      <td>7</td>\n",
       "      <td>9.0</td>\n",
       "      <td>Mid range product</td>\n",
       "      <td>Slowest days</td>\n",
       "      <td>Most orders</td>\n",
       "      <td>Loyal customer</td>\n",
       "      <td>Low spender</td>\n",
       "      <td>Frequent customer</td>\n",
       "      <td>Female</td>\n",
       "      <td>South Carolina</td>\n",
       "      <td>42</td>\n",
       "      <td>1/18/2020</td>\n",
       "      <td>1</td>\n",
       "      <td>married</td>\n",
       "      <td>109995</td>\n",
       "      <td>South</td>\n",
       "      <td>93</td>\n",
       "      <td>N</td>\n",
       "      <td>Millennial</td>\n",
       "      <td>Whale</td>\n",
       "      <td>11.826437</td>\n",
       "      <td>21</td>\n",
       "      <td>13041.3</td>\n",
       "    </tr>\n",
       "    <tr>\n",
       "      <th>3</th>\n",
       "      <td>5621</td>\n",
       "      <td>2011851</td>\n",
       "      <td>31355</td>\n",
       "      <td>65</td>\n",
       "      <td>1</td>\n",
       "      <td>14</td>\n",
       "      <td>1.0</td>\n",
       "      <td>False</td>\n",
       "      <td>196</td>\n",
       "      <td>5</td>\n",
       "      <td>1</td>\n",
       "      <td>Soda</td>\n",
       "      <td>77</td>\n",
       "      <td>7</td>\n",
       "      <td>9.0</td>\n",
       "      <td>Mid range product</td>\n",
       "      <td>Busiest days</td>\n",
       "      <td>Most orders</td>\n",
       "      <td>Loyal customer</td>\n",
       "      <td>Low spender</td>\n",
       "      <td>Frequent customer</td>\n",
       "      <td>Female</td>\n",
       "      <td>South Carolina</td>\n",
       "      <td>42</td>\n",
       "      <td>1/18/2020</td>\n",
       "      <td>1</td>\n",
       "      <td>married</td>\n",
       "      <td>109995</td>\n",
       "      <td>South</td>\n",
       "      <td>93</td>\n",
       "      <td>N</td>\n",
       "      <td>Millennial</td>\n",
       "      <td>Whale</td>\n",
       "      <td>11.826437</td>\n",
       "      <td>21</td>\n",
       "      <td>13041.3</td>\n",
       "    </tr>\n",
       "    <tr>\n",
       "      <th>4</th>\n",
       "      <td>5622</td>\n",
       "      <td>2944443</td>\n",
       "      <td>31355</td>\n",
       "      <td>69</td>\n",
       "      <td>1</td>\n",
       "      <td>14</td>\n",
       "      <td>2.0</td>\n",
       "      <td>False</td>\n",
       "      <td>196</td>\n",
       "      <td>11</td>\n",
       "      <td>1</td>\n",
       "      <td>Soda</td>\n",
       "      <td>77</td>\n",
       "      <td>7</td>\n",
       "      <td>9.0</td>\n",
       "      <td>Mid range product</td>\n",
       "      <td>Busiest days</td>\n",
       "      <td>Most orders</td>\n",
       "      <td>Loyal customer</td>\n",
       "      <td>Low spender</td>\n",
       "      <td>Frequent customer</td>\n",
       "      <td>Female</td>\n",
       "      <td>South Carolina</td>\n",
       "      <td>42</td>\n",
       "      <td>1/18/2020</td>\n",
       "      <td>1</td>\n",
       "      <td>married</td>\n",
       "      <td>109995</td>\n",
       "      <td>South</td>\n",
       "      <td>93</td>\n",
       "      <td>N</td>\n",
       "      <td>Millennial</td>\n",
       "      <td>Whale</td>\n",
       "      <td>11.826437</td>\n",
       "      <td>21</td>\n",
       "      <td>13041.3</td>\n",
       "    </tr>\n",
       "  </tbody>\n",
       "</table>\n",
       "</div>"
      ],
      "text/plain": [
       "   Unnamed: 0  order_id  user_id  order_number  orders_day_of_week  \\\n",
       "0         608   2910377     3794            67                   5   \n",
       "1        5619   1368258    31355            61                   0   \n",
       "2        5620   2715416    31355            63                   4   \n",
       "3        5621   2011851    31355            65                   1   \n",
       "4        5622   2944443    31355            69                   1   \n",
       "\n",
       "   orders_hour_of_day  days_since_prior_order  first_order  product_id  \\\n",
       "0                  12                     4.0        False         196   \n",
       "1                   8                     3.0        False         196   \n",
       "2                  10                     2.0        False         196   \n",
       "3                  14                     1.0        False         196   \n",
       "4                  14                     2.0        False         196   \n",
       "\n",
       "   add_to_cart_order  reordered product_name  aisle_id  department_id  prices  \\\n",
       "0                  1          0         Soda        77              7     9.0   \n",
       "1                 12          0         Soda        77              7     9.0   \n",
       "2                 14          1         Soda        77              7     9.0   \n",
       "3                  5          1         Soda        77              7     9.0   \n",
       "4                 11          1         Soda        77              7     9.0   \n",
       "\n",
       "     price_range_loc    busiest_days busiest_period_of_day    loyalty_flag  \\\n",
       "0  Mid range product  Regularly busy           Most orders  Loyal customer   \n",
       "1  Mid range product    Busiest days        Average orders  Loyal customer   \n",
       "2  Mid range product    Slowest days           Most orders  Loyal customer   \n",
       "3  Mid range product    Busiest days           Most orders  Loyal customer   \n",
       "4  Mid range product    Busiest days           Most orders  Loyal customer   \n",
       "\n",
       "  spending_type     frequency_flag  Gender           STATE  Age date_joined  \\\n",
       "0   Low spender  Frequent customer    Male           Maine   65   2/16/2018   \n",
       "1   Low spender  Frequent customer  Female  South Carolina   42   1/18/2020   \n",
       "2   Low spender  Frequent customer  Female  South Carolina   42   1/18/2020   \n",
       "3   Low spender  Frequent customer  Female  South Carolina   42   1/18/2020   \n",
       "4   Low spender  Frequent customer  Female  South Carolina   42   1/18/2020   \n",
       "\n",
       "   n_dependants fam_status  income     Region  max_order low_activity  \\\n",
       "0             1    married  165736  Northeast         86            N   \n",
       "1             1    married  109995      South         93            N   \n",
       "2             1    married  109995      South         93            N   \n",
       "3             1    married  109995      South         93            N   \n",
       "4             1    married  109995      South         93            N   \n",
       "\n",
       "    generation customer_profile  mean_order_hour  favorite_department      LTV  \n",
       "0  Baby Boomer            Whale        13.925303                   20  11893.4  \n",
       "1   Millennial            Whale        11.826437                   21  13041.3  \n",
       "2   Millennial            Whale        11.826437                   21  13041.3  \n",
       "3   Millennial            Whale        11.826437                   21  13041.3  \n",
       "4   Millennial            Whale        11.826437                   21  13041.3  "
      ]
     },
     "execution_count": 17,
     "metadata": {},
     "output_type": "execute_result"
    }
   ],
   "source": [
    "df_whale.head()"
   ]
  },
  {
   "cell_type": "code",
   "execution_count": 23,
   "id": "2908570b",
   "metadata": {},
   "outputs": [
    {
     "data": {
      "text/plain": [
       "department_id\n",
       "4     9079273\n",
       "16    5177182\n",
       "19    2766406\n",
       "7     2571901\n",
       "1     2121731\n",
       "13    1782705\n",
       "3     1120828\n",
       "15    1012074\n",
       "20    1003834\n",
       "9      822136\n",
       "17     699857\n",
       "12     674781\n",
       "14     670850\n",
       "11     424306\n",
       "18     410392\n",
       "6      255991\n",
       "5      144627\n",
       "8       93060\n",
       "21      64768\n",
       "2       34411\n",
       "10      33451\n",
       "Name: count, dtype: int64"
      ]
     },
     "execution_count": 23,
     "metadata": {},
     "output_type": "execute_result"
    }
   ],
   "source": [
    "df['department_id'].value_counts(dropna = False)"
   ]
  },
  {
   "cell_type": "markdown",
   "id": "6c17afe1",
   "metadata": {},
   "source": [
    "Reminder of departments:\n",
    "\n",
    "- '1': {'department': 'frozen'},\n",
    "- '2': {'department': 'other'},\n",
    "- '3': {'department': 'bakery'},\n",
    "- '4': {'department': 'produce'},\n",
    "- '5': {'department': 'alcohol'},\n",
    "- '6': {'department': 'international'},\n",
    "- '7': {'department': 'beverages'},\n",
    "- '8': {'department': 'pets'},\n",
    "- '9': {'department': 'dry goods pasta'},\n",
    "- '10': {'department': 'bulk'},\n",
    "- '11': {'department': 'personal care'},\n",
    "- '12': {'department': 'meat seafood'},\n",
    "- '13': {'department': 'pantry'},\n",
    "- '14': {'department': 'breakfast'},\n",
    "- '15': {'department': 'canned goods'},\n",
    "- '16': {'department': 'dairy eggs'},\n",
    "- '17': {'department': 'household'},\n",
    "- '18': {'department': 'babies'},\n",
    "- '19': {'department': 'snacks'},\n",
    "- '20': {'department': 'deli'},\n",
    "- '21': {'department': 'missing'}}"
   ]
  },
  {
   "cell_type": "code",
   "execution_count": 24,
   "id": "a9521eef",
   "metadata": {},
   "outputs": [
    {
     "data": {
      "image/png": "[encoded data removed]",
      "text/plain": [
       "<Figure size 640x480 with 1 Axes>"
      ]
     },
     "metadata": {},
     "output_type": "display_data"
    }
   ],
   "source": [
    "freq_department_bar = df['department_id'].value_counts(dropna = False).plot.bar()\n",
    "\n",
    "#top categories: produce, dairy/eggs, snacks, beverages, frozen"
   ]
  },
  {
   "cell_type": "code",
   "execution_count": 25,
   "id": "087df5f5",
   "metadata": {},
   "outputs": [],
   "source": [
    "freq_department_bar.figure.savefig(os.path.join(path, '04 Analysis','Visualizations', 'department_freq.png'))"
   ]
  },
  {
   "cell_type": "markdown",
   "id": "92b2f9a9",
   "metadata": {},
   "source": [
    "## Aggregate the min/mean/max on a customer-profile level for usage frequency (orders) and expenditure (amount spent)"
   ]
  },
  {
   "cell_type": "code",
   "execution_count": 21,
   "id": "68fedaf4",
   "metadata": {},
   "outputs": [
    {
     "data": {
      "text/html": [
       "<div>\n",
       "<style scoped>\n",
       "    .dataframe tbody tr th:only-of-type {\n",
       "        vertical-align: middle;\n",
       "    }\n",
       "\n",
       "    .dataframe tbody tr th {\n",
       "        vertical-align: top;\n",
       "    }\n",
       "\n",
       "    .dataframe thead tr th {\n",
       "        text-align: left;\n",
       "    }\n",
       "\n",
       "    .dataframe thead tr:last-of-type th {\n",
       "        text-align: right;\n",
       "    }\n",
       "</style>\n",
       "<table border=\"1\" class=\"dataframe\">\n",
       "  <thead>\n",
       "    <tr>\n",
       "      <th></th>\n",
       "      <th colspan=\"3\" halign=\"left\">max_order</th>\n",
       "    </tr>\n",
       "    <tr>\n",
       "      <th></th>\n",
       "      <th>mean</th>\n",
       "      <th>min</th>\n",
       "      <th>max</th>\n",
       "    </tr>\n",
       "    <tr>\n",
       "      <th>customer_profile</th>\n",
       "      <th></th>\n",
       "      <th></th>\n",
       "      <th></th>\n",
       "    </tr>\n",
       "  </thead>\n",
       "  <tbody>\n",
       "    <tr>\n",
       "      <th>DivWid</th>\n",
       "      <td>34.348694</td>\n",
       "      <td>5</td>\n",
       "      <td>99</td>\n",
       "    </tr>\n",
       "    <tr>\n",
       "      <th>Drizly</th>\n",
       "      <td>15.355394</td>\n",
       "      <td>5</td>\n",
       "      <td>74</td>\n",
       "    </tr>\n",
       "    <tr>\n",
       "      <th>Nightowl</th>\n",
       "      <td>9.059677</td>\n",
       "      <td>5</td>\n",
       "      <td>18</td>\n",
       "    </tr>\n",
       "    <tr>\n",
       "      <th>Whale</th>\n",
       "      <td>77.985122</td>\n",
       "      <td>27</td>\n",
       "      <td>99</td>\n",
       "    </tr>\n",
       "    <tr>\n",
       "      <th>Young Parent</th>\n",
       "      <td>35.443911</td>\n",
       "      <td>5</td>\n",
       "      <td>99</td>\n",
       "    </tr>\n",
       "  </tbody>\n",
       "</table>\n",
       "</div>"
      ],
      "text/plain": [
       "                  max_order        \n",
       "                       mean min max\n",
       "customer_profile                   \n",
       "DivWid            34.348694   5  99\n",
       "Drizly            15.355394   5  74\n",
       "Nightowl           9.059677   5  18\n",
       "Whale             77.985122  27  99\n",
       "Young Parent      35.443911   5  99"
      ]
     },
     "execution_count": 21,
     "metadata": {},
     "output_type": "execute_result"
    }
   ],
   "source": [
    "df.groupby('customer_profile').agg({'max_order':['mean','min','max']})"
   ]
  },
  {
   "cell_type": "code",
   "execution_count": 20,
   "id": "2ee507fd",
   "metadata": {
    "scrolled": true
   },
   "outputs": [
    {
     "data": {
      "text/html": [
       "<div>\n",
       "<style scoped>\n",
       "    .dataframe tbody tr th:only-of-type {\n",
       "        vertical-align: middle;\n",
       "    }\n",
       "\n",
       "    .dataframe tbody tr th {\n",
       "        vertical-align: top;\n",
       "    }\n",
       "\n",
       "    .dataframe thead tr th {\n",
       "        text-align: left;\n",
       "    }\n",
       "\n",
       "    .dataframe thead tr:last-of-type th {\n",
       "        text-align: right;\n",
       "    }\n",
       "</style>\n",
       "<table border=\"1\" class=\"dataframe\">\n",
       "  <thead>\n",
       "    <tr>\n",
       "      <th></th>\n",
       "      <th colspan=\"3\" halign=\"left\">LTV</th>\n",
       "    </tr>\n",
       "    <tr>\n",
       "      <th></th>\n",
       "      <th>mean</th>\n",
       "      <th>min</th>\n",
       "      <th>max</th>\n",
       "    </tr>\n",
       "    <tr>\n",
       "      <th>customer_profile</th>\n",
       "      <th></th>\n",
       "      <th></th>\n",
       "      <th></th>\n",
       "    </tr>\n",
       "  </thead>\n",
       "  <tbody>\n",
       "    <tr>\n",
       "      <th>DivWid</th>\n",
       "      <td>3315.963933</td>\n",
       "      <td>15.7</td>\n",
       "      <td>24307.1</td>\n",
       "    </tr>\n",
       "    <tr>\n",
       "      <th>Drizly</th>\n",
       "      <td>446.330930</td>\n",
       "      <td>7.7</td>\n",
       "      <td>2723.2</td>\n",
       "    </tr>\n",
       "    <tr>\n",
       "      <th>Nightowl</th>\n",
       "      <td>630.360484</td>\n",
       "      <td>45.2</td>\n",
       "      <td>1815.7</td>\n",
       "    </tr>\n",
       "    <tr>\n",
       "      <th>Whale</th>\n",
       "      <td>12630.166451</td>\n",
       "      <td>10014.1</td>\n",
       "      <td>26394.9</td>\n",
       "    </tr>\n",
       "    <tr>\n",
       "      <th>Young Parent</th>\n",
       "      <td>3566.815369</td>\n",
       "      <td>13.3</td>\n",
       "      <td>18448.1</td>\n",
       "    </tr>\n",
       "  </tbody>\n",
       "</table>\n",
       "</div>"
      ],
      "text/plain": [
       "                           LTV                  \n",
       "                          mean      min      max\n",
       "customer_profile                                \n",
       "DivWid             3315.963933     15.7  24307.1\n",
       "Drizly              446.330930      7.7   2723.2\n",
       "Nightowl            630.360484     45.2   1815.7\n",
       "Whale             12630.166451  10014.1  26394.9\n",
       "Young Parent       3566.815369     13.3  18448.1"
      ]
     },
     "execution_count": 20,
     "metadata": {},
     "output_type": "execute_result"
    }
   ],
   "source": [
    "df.groupby('customer_profile').agg({'LTV':['mean','min','max']})"
   ]
  },
  {
   "cell_type": "markdown",
   "id": "9ef31b05",
   "metadata": {},
   "source": [
    "Seeing these results in 4.10.1 script actually, not sure where the disconnect is/ if I just need to integrate them into the final deliverable."
   ]
  },
  {
   "cell_type": "code",
   "execution_count": 23,
   "id": "f66bb252",
   "metadata": {},
   "outputs": [
    {
     "data": {
      "text/plain": [
       "<Axes: xlabel='department_id'>"
      ]
     },
     "execution_count": 23,
     "metadata": {},
     "output_type": "execute_result"
    },
    {
     "data": {
      "image/png": "[encoded data removed]",
      "text/plain": [
       "<Figure size 640x480 with 1 Axes>"
      ]
     },
     "metadata": {},
     "output_type": "display_data"
    }
   ],
   "source": [
    "df_divwid['department_id'].value_counts(dropna = False).plot.bar()"
   ]
  },
  {
   "cell_type": "code",
   "execution_count": 24,
   "id": "6a539125",
   "metadata": {},
   "outputs": [
    {
     "data": {
      "text/plain": [
       "<Axes: xlabel='department_id'>"
      ]
     },
     "execution_count": 24,
     "metadata": {},
     "output_type": "execute_result"
    },
    {
     "data": {
      "image/png": "[encoded data removed]",
      "text/plain": [
       "<Figure size 640x480 with 1 Axes>"
      ]
     },
     "metadata": {},
     "output_type": "display_data"
    }
   ],
   "source": [
    "df_drizly['department_id'].value_counts(dropna = False).plot.bar()"
   ]
  },
  {
   "cell_type": "code",
   "execution_count": 25,
   "id": "ae9b5dcd",
   "metadata": {},
   "outputs": [
    {
     "data": {
      "text/plain": [
       "<Axes: xlabel='department_id'>"
      ]
     },
     "execution_count": 25,
     "metadata": {},
     "output_type": "execute_result"
    },
    {
     "data": {
      "image/png": "[encoded data removed]",
      "text/plain": [
       "<Figure size 640x480 with 1 Axes>"
      ]
     },
     "metadata": {},
     "output_type": "display_data"
    }
   ],
   "source": [
    "df_nightowl['department_id'].value_counts(dropna = False).plot.bar()"
   ]
  },
  {
   "cell_type": "code",
   "execution_count": 26,
   "id": "8177e548",
   "metadata": {},
   "outputs": [
    {
     "data": {
      "text/plain": [
       "<Axes: xlabel='department_id'>"
      ]
     },
     "execution_count": 26,
     "metadata": {},
     "output_type": "execute_result"
    },
    {
     "data": {
      "image/png": "[encoded data removed]",
      "text/plain": [
       "<Figure size 640x480 with 1 Axes>"
      ]
     },
     "metadata": {},
     "output_type": "display_data"
    }
   ],
   "source": [
    "df_whale['department_id'].value_counts(dropna = False).plot.bar()"
   ]
  },
  {
   "cell_type": "code",
   "execution_count": 27,
   "id": "6514bec0",
   "metadata": {},
   "outputs": [
    {
     "data": {
      "text/plain": [
       "<Axes: xlabel='department_id'>"
      ]
     },
     "execution_count": 27,
     "metadata": {},
     "output_type": "execute_result"
    },
    {
     "data": {
      "image/png": "[encoded data removed]",
      "text/plain": [
       "<Figure size 640x480 with 1 Axes>"
      ]
     },
     "metadata": {},
     "output_type": "display_data"
    }
   ],
   "source": [
    "df_yp['department_id'].value_counts(dropna = False).plot.bar()"
   ]
  },
  {
   "cell_type": "code",
   "execution_count": null,
   "id": "630499f1",
   "metadata": {},
   "outputs": [],
   "source": []
  }
 ],
 "metadata": {
  "kernelspec": {
   "display_name": "Python 3 (ipykernel)",
   "language": "python",
   "name": "python3"
  },
  "language_info": {
   "codemirror_mode": {
    "name": "ipython",
    "version": 3
   },
   "file_extension": ".py",
   "mimetype": "text/x-python",
   "name": "python",
   "nbconvert_exporter": "python",
   "pygments_lexer": "ipython3",
   "version": "3.11.5"
  }
 },
 "nbformat": 4,
 "nbformat_minor": 5
}
